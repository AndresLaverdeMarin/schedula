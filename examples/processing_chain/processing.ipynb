{
 "cells": [
  {
   "cell_type": "markdown",
   "metadata": {},
   "source": [
    "# Process chain"
   ]
  },
  {
   "cell_type": "markdown",
   "metadata": {},
   "source": [
    "## Importing modules"
   ]
  },
  {
   "cell_type": "code",
   "execution_count": null,
   "metadata": {},
   "outputs": [
    {
     "data": {
      "text/html": [
       "<script type=\"text/javascript\">window.PlotlyConfig = {MathJaxConfig: 'local'};</script><script type=\"text/javascript\">if (window.MathJax) {MathJax.Hub.Config({SVG: {font: \"STIX-Web\"}});}</script><script>requirejs.config({paths: { 'plotly': ['https://cdn.plot.ly/plotly-latest.min']},});if(!window._Plotly) {require(['plotly'],function(plotly) {window._Plotly=plotly;});}</script>"
      ]
     },
     "metadata": {},
     "output_type": "execute_result"
    }
   ],
   "source": [
    "from process import process\n",
    "from utils.plot import define_plot_data\n",
    "from plotly.offline import download_plotlyjs, init_notebook_mode, plot, iplot\n",
    "init_notebook_mode(connected=True)"
   ]
  },
  {
   "cell_type": "markdown",
   "metadata": {},
   "source": [
    "## Variable definition"
   ]
  },
  {
   "cell_type": "code",
   "execution_count": 2,
   "metadata": {},
   "outputs": [],
   "source": [
    "input_fpath = 'files/inp.xlsx'\n",
    "output_fpath = 'files/out.xlsx'\n",
    "column_mapping = {'Time [s]': 'time', 'Velocity [m/s]': 'velocity'}"
   ]
  },
  {
   "cell_type": "markdown",
   "metadata": {},
   "source": [
    "## Processing chain model"
   ]
  },
  {
   "cell_type": "code",
   "execution_count": 3,
   "metadata": {},
   "outputs": [
    {
     "name": "stdout",
     "output_type": "stream",
     "text": [
      " * Serving Flask app \"/var/folders/hr/91tdq8t57653bd6_wh14pmwm0000gn/T/tmpuk0xek9p\" (lazy loading)\n",
      " * Environment: production\n",
      "   WARNING: Do not use the development server in a production environment.\n",
      "   Use a production WSGI server instead.\n",
      " * Debug mode: off\n"
     ]
    },
    {
     "name": "stderr",
     "output_type": "stream",
     "text": [
      " * Running on http://localhost:59303/ (Press CTRL+C to quit)\n"
     ]
    },
    {
     "data": {
      "text/html": [
       "\n",
       "<iframe width=\"100%\" height=\"500\" id=\"5052998936\" src=\"http://localhost:59303/\">\n",
       "</iframe>\n"
      ],
      "text/plain": [
       "Site(SiteMap([(Processing Model, SiteMap([(compute_outputs, SiteMap())]))]), host='localhost', port=0, depth=-1, index=False, root_path=None)"
      ]
     },
     "execution_count": 3,
     "metadata": {},
     "output_type": "execute_result"
    }
   ],
   "source": [
    "dsp = process.register()\n",
    "# Click on the graph to see the model.\n",
    "dsp.plot(view=False).site(index=False)"
   ]
  },
  {
   "cell_type": "markdown",
   "metadata": {},
   "source": [
    "# Model Execution"
   ]
  },
  {
   "cell_type": "code",
   "execution_count": 4,
   "metadata": {},
   "outputs": [
    {
     "data": {
      "text/plain": [
       "Solution([('time', array([0, 1, 2, 3, 4])),\n",
       "          ('velocity', array([0, 2, 3, 1, 0])),\n",
       "          ('acceleration', array([ 2. ,  1.5, -0.5, -1.5, -1. ])),\n",
       "          ('distance', array([0. , 1. , 3.5, 5.5, 6. ]))])"
      ]
     },
     "execution_count": 4,
     "metadata": {},
     "output_type": "execute_result"
    }
   ],
   "source": [
    "sol = dsp(dict(input_fpath=input_fpath, output_fpath=output_fpath, column_mapping=column_mapping))\n",
    "sol['outputs']"
   ]
  },
  {
   "cell_type": "code",
   "execution_count": 5,
   "metadata": {},
   "outputs": [
    {
     "name": "stdout",
     "output_type": "stream",
     "text": [
      " * Serving Flask app \"/var/folders/hr/91tdq8t57653bd6_wh14pmwm0000gn/T/tmp_ut37k5_\" (lazy loading)\n",
      " * Environment: production\n",
      "   WARNING: Do not use the development server in a production environment.\n",
      "   Use a production WSGI server instead.\n",
      " * Debug mode: off\n"
     ]
    },
    {
     "name": "stderr",
     "output_type": "stream",
     "text": [
      " * Running on http://localhost:59307/ (Press CTRL+C to quit)\n",
      "127.0.0.1 - - [14/Jul/2019 18:46:17] \"\u001b[37mGET / HTTP/1.1\u001b[0m\" 200 -\n"
     ]
    },
    {
     "data": {
      "text/html": [
       "\n",
       "<iframe width=\"100%\" height=\"500\" id=\"5059643152\" src=\"http://localhost:59307/\">\n",
       "</iframe>\n"
      ],
      "text/plain": [
       "Site(SiteMap([(Processing Model, SiteMap([(compute_outputs, SiteMap())]))]), host='localhost', port=0, depth=-1, index=False, root_path=None)"
      ]
     },
     "execution_count": 5,
     "metadata": {},
     "output_type": "execute_result"
    }
   ],
   "source": [
    "# Click on the graph to see the model results.\n",
    "sol.plot(view=False).site(index=False)"
   ]
  },
  {
   "cell_type": "markdown",
   "metadata": {},
   "source": [
    "# Plot Results"
   ]
  },
  {
   "cell_type": "code",
   "execution_count": 6,
   "metadata": {},
   "outputs": [
    {
     "name": "stderr",
     "output_type": "stream",
     "text": [
      "127.0.0.1 - - [14/Jul/2019 18:46:17] \"\u001b[37mGET / HTTP/1.1\u001b[0m\" 200 -\n"
     ]
    },
    {
     "data": {
      "text/html": [
       "<div id=\"3745517d-1f42-4f5a-9440-ffe00d8b036d\" style=\"height: 525px; width: 100%;\" class=\"plotly-graph-div\"></div><script type=\"text/javascript\">require([\"plotly\"], function(Plotly) { window.PLOTLYENV=window.PLOTLYENV || {};window.PLOTLYENV.BASE_URL=\"https://plot.ly\";Plotly.newPlot(\"3745517d-1f42-4f5a-9440-ffe00d8b036d\", [{\"mode\": \"lines\", \"name\": \"distance\", \"x\": [0, 1, 2, 3, 4], \"y\": [0.0, 1.0, 3.5, 5.5, 6.0], \"type\": \"scatter\", \"uid\": \"96cee418-a886-45ea-9a16-967c1ac09feb\"}, {\"mode\": \"lines\", \"name\": \"velocity\", \"x\": [0, 1, 2, 3, 4], \"y\": [0, 2, 3, 1, 0], \"type\": \"scatter\", \"uid\": \"9d70f0aa-8b18-4b45-9f9c-793224b7e554\"}, {\"mode\": \"lines\", \"name\": \"acceleration\", \"x\": [0, 1, 2, 3, 4], \"y\": [2.0, 1.5, -0.5, -1.5, -1.0], \"type\": \"scatter\", \"uid\": \"0cfac911-7e0c-4a65-baf5-5d5843059d62\"}], {}, {\"showLink\": false, \"linkText\": \"Export to plot.ly\", \"plotlyServerURL\": \"https://plot.ly\"})});</script><script type=\"text/javascript\">window.addEventListener(\"resize\", function(){window._Plotly.Plots.resize(document.getElementById(\"3745517d-1f42-4f5a-9440-ffe00d8b036d\"));});</script>"
      ]
     },
     "metadata": {},
     "output_type": "execute_result"
    }
   ],
   "source": [
    "iplot(define_plot_data(sol['outputs'], 'time',  'distance', 'velocity', 'acceleration'))"
   ]
  }
 ],
 "metadata": {
  "kernelspec": {
   "display_name": "Python 3",
   "language": "python",
   "name": "python3"
  },
  "language_info": {
   "codemirror_mode": {
    "name": "ipython",
    "version": 3
   },
   "file_extension": ".py",
   "mimetype": "text/x-python",
   "name": "python",
   "nbconvert_exporter": "python",
   "pygments_lexer": "ipython3",
   "version": "3.7.2"
  }
 },
 "nbformat": 4,
 "nbformat_minor": 2
}
