{
 "cells": [
  {
   "cell_type": "markdown",
   "metadata": {},
   "source": [
    "# Importing modules"
   ]
  },
  {
   "cell_type": "code",
   "execution_count": 1,
   "metadata": {},
   "outputs": [
    {
     "data": {
      "text/html": [
       "<script type=\"text/javascript\">window.PlotlyConfig = {MathJaxConfig: 'local'};</script><script type=\"text/javascript\">if (window.MathJax) {MathJax.Hub.Config({SVG: {font: \"STIX-Web\"}});}</script><script>requirejs.config({paths: { 'plotly': ['https://cdn.plot.ly/plotly-latest.min']},});if(!window._Plotly) {require(['plotly'],function(plotly) {window._Plotly=plotly;});}</script>"
      ]
     },
     "metadata": {},
     "output_type": "execute_result"
    }
   ],
   "source": [
    "from process import process\n",
    "from utils.plot import plot_lines, define_plot_data\n",
    "from plotly.offline import download_plotlyjs, init_notebook_mode, plot, iplot\n",
    "init_notebook_mode(connected=True)"
   ]
  },
  {
   "cell_type": "markdown",
   "metadata": {},
   "source": [
    "# Variable definition"
   ]
  },
  {
   "cell_type": "code",
   "execution_count": 2,
   "metadata": {},
   "outputs": [],
   "source": [
    "input_fpath = 'files/inp.xlsx'\n",
    "output_fpath = 'files/out.xlsx'\n",
    "column_mapping = {'Time [s]': 'time', 'Velocity [m/s]': 'velocity'}"
   ]
  },
  {
   "cell_type": "markdown",
   "metadata": {},
   "source": [
    "# Processing chain model"
   ]
  },
  {
   "cell_type": "code",
   "execution_count": 3,
   "metadata": {},
   "outputs": [
    {
     "name": "stdout",
     "output_type": "stream",
     "text": [
      " * Serving Flask app \"/var/folders/hr/91tdq8t57653bd6_wh14pmwm0000gn/T/tmp5xg2loh7\" (lazy loading)\n",
      " * Environment: production\n",
      "   WARNING: Do not use the development server in a production environment.\n",
      "   Use a production WSGI server instead.\n",
      " * Debug mode: off\n"
     ]
    },
    {
     "name": "stderr",
     "output_type": "stream",
     "text": [
      " * Running on http://localhost:55708/ (Press CTRL+C to quit)\n"
     ]
    },
    {
     "data": {
      "text/html": [
       "\n",
       "        <iframe\n",
       "            width=\"100%\"\n",
       "            height=\"500\"\n",
       "            src=\"http://localhost:55708\"\n",
       "            frameborder=\"0\"\n",
       "            allowfullscreen\n",
       "        ></iframe>\n",
       "        "
      ],
      "text/plain": [
       "Site(SiteMap([(Processing Model, SiteMap([(compute_outputs, SiteMap())]))]), host='localhost', port=0, depth=-1, index=False, root_path=None)"
      ]
     },
     "execution_count": 3,
     "metadata": {},
     "output_type": "execute_result"
    }
   ],
   "source": [
    "dsp = process.register()\n",
    "# Click on the graph to see the model.\n",
    "dsp.plot(view=False).site(index=False)"
   ]
  },
  {
   "cell_type": "markdown",
   "metadata": {},
   "source": [
    "# Model Execution"
   ]
  },
  {
   "cell_type": "code",
   "execution_count": 4,
   "metadata": {},
   "outputs": [
    {
     "name": "stderr",
     "output_type": "stream",
     "text": [
      "127.0.0.1 - - [14/Jan/2019 23:09:51] \"GET / HTTP/1.1\" 200 -\n"
     ]
    },
    {
     "data": {
      "text/plain": [
       "Solution([('time', array([0, 1, 2, 3, 4])),\n",
       "          ('velocity', array([0, 2, 3, 1, 0])),\n",
       "          ('acceleration', array([ 2. ,  1.5, -0.5, -1.5, -1. ])),\n",
       "          ('distance', array([0. , 1. , 3.5, 5.5, 6. ]))])"
      ]
     },
     "execution_count": 4,
     "metadata": {},
     "output_type": "execute_result"
    }
   ],
   "source": [
    "sol = dsp(dict(input_fpath=input_fpath, output_fpath=output_fpath, column_mapping=column_mapping))\n",
    "sol['outputs']"
   ]
  },
  {
   "cell_type": "code",
   "execution_count": 5,
   "metadata": {},
   "outputs": [
    {
     "name": "stdout",
     "output_type": "stream",
     "text": [
      " * Serving Flask app \"/var/folders/hr/91tdq8t57653bd6_wh14pmwm0000gn/T/tmp8myhdd8f\" (lazy loading)\n",
      " * Environment: production\n",
      "   WARNING: Do not use the development server in a production environment.\n",
      "   Use a production WSGI server instead.\n",
      " * Debug mode: off\n"
     ]
    },
    {
     "name": "stderr",
     "output_type": "stream",
     "text": [
      " * Running on http://localhost:55713/ (Press CTRL+C to quit)\n"
     ]
    },
    {
     "data": {
      "text/html": [
       "\n",
       "        <iframe\n",
       "            width=\"100%\"\n",
       "            height=\"500\"\n",
       "            src=\"http://localhost:55713\"\n",
       "            frameborder=\"0\"\n",
       "            allowfullscreen\n",
       "        ></iframe>\n",
       "        "
      ],
      "text/plain": [
       "Site(SiteMap([(Processing Model, SiteMap([(compute_outputs, SiteMap())]))]), host='localhost', port=0, depth=-1, index=False, root_path=None)"
      ]
     },
     "execution_count": 5,
     "metadata": {},
     "output_type": "execute_result"
    }
   ],
   "source": [
    "# Click on the graph to see the model results.\n",
    "sol.plot(view=False).site(index=False)"
   ]
  },
  {
   "cell_type": "markdown",
   "metadata": {},
   "source": [
    "# Plot Results"
   ]
  },
  {
   "cell_type": "code",
   "execution_count": 6,
   "metadata": {},
   "outputs": [
    {
     "name": "stderr",
     "output_type": "stream",
     "text": [
      "127.0.0.1 - - [14/Jan/2019 23:09:51] \"GET / HTTP/1.1\" 200 -\n"
     ]
    },
    {
     "data": {
      "text/html": [
       "<div id=\"5b959659-2f1d-46af-9981-64c9472d0f4f\" style=\"height: 525px; width: 100%;\" class=\"plotly-graph-div\"></div><script type=\"text/javascript\">require([\"plotly\"], function(Plotly) { window.PLOTLYENV=window.PLOTLYENV || {};window.PLOTLYENV.BASE_URL=\"https://plot.ly\";Plotly.newPlot(\"5b959659-2f1d-46af-9981-64c9472d0f4f\", [{\"mode\": \"lines\", \"name\": \"distance\", \"x\": [0, 1, 2, 3, 4], \"y\": [0.0, 1.0, 3.5, 5.5, 6.0], \"type\": \"scatter\", \"uid\": \"20290da8-0d5d-4f74-8aae-e21b255637ba\"}, {\"mode\": \"lines\", \"name\": \"velocity\", \"x\": [0, 1, 2, 3, 4], \"y\": [0, 2, 3, 1, 0], \"type\": \"scatter\", \"uid\": \"d4c93b16-270e-400b-82fc-51cc0ff9d319\"}, {\"mode\": \"lines\", \"name\": \"acceleration\", \"x\": [0, 1, 2, 3, 4], \"y\": [2.0, 1.5, -0.5, -1.5, -1.0], \"type\": \"scatter\", \"uid\": \"2675d22f-7b8a-4c3a-8a7b-4809ca462b1f\"}], {}, {\"showLink\": false, \"linkText\": \"Export to plot.ly\", \"plotlyServerURL\": \"https://plot.ly\"})});</script><script type=\"text/javascript\">window.addEventListener(\"resize\", function(){window._Plotly.Plots.resize(document.getElementById(\"5b959659-2f1d-46af-9981-64c9472d0f4f\"));});</script>"
      ]
     },
     "metadata": {},
     "output_type": "execute_result"
    },
    {
     "name": "stderr",
     "output_type": "stream",
     "text": [
      "127.0.0.1 - - [14/Jan/2019 23:10:40] \"GET /Processing_Model/compute_outputs.html HTTP/1.1\" 200 -\n",
      "127.0.0.1 - - [14/Jan/2019 23:27:57] \"GET /Processing_Model/read_excel.html HTTP/1.1\" 200 -\n",
      "127.0.0.1 - - [14/Jan/2019 23:28:16] \"GET /Processing_Model/save_outputs.html HTTP/1.1\" 200 -\n",
      "127.0.0.1 - - [14/Jan/2019 23:39:08] \"GET /Processing_Model/compute_outputs.html HTTP/1.1\" 200 -\n",
      "127.0.0.1 - - [14/Jan/2019 23:39:09] \"GET /Processing_Model/compute_outputs/time-output.html HTTP/1.1\" 200 -\n"
     ]
    }
   ],
   "source": [
    "plot_lines(define_plot_data(sol['outputs'], 'time',  'distance', 'velocity', 'acceleration'))"
   ]
  }
 ],
 "metadata": {
  "kernelspec": {
   "display_name": "Python 3",
   "language": "python",
   "name": "python3"
  },
  "language_info": {
   "codemirror_mode": {
    "name": "ipython",
    "version": 3
   },
   "file_extension": ".py",
   "mimetype": "text/x-python",
   "name": "python",
   "nbconvert_exporter": "python",
   "pygments_lexer": "ipython3",
   "version": "3.7.0"
  }
 },
 "nbformat": 4,
 "nbformat_minor": 2
}
